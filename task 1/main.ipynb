{
 "cells": [
  {
   "attachments": {},
   "cell_type": "markdown",
   "metadata": {},
   "source": [
    "При вставке/обновлении значений в таблице `Payment` срабатывает триггер `T_Payment_AI`. Внутри него используются несколько функций: `F_CalculatePaymentParticipantBalance`, `F_CalculateBalanceByMaterial`, `F_CalculateBalanceByWork`, `F_CalculateProjectBalance`. В этих функциях выполняются операции `SELECT` над полями таблиц, у которых изначально нет индекса, поэтому для таких полей можно добавить индексы:\n",
    "\n",
    "    - NONCLUSTERED INDEX iName_PaymentCategory ON PaymentCategory (Name)\n",
    "    - NONCLUSTERED INDEX iName_AccountType ON AccountType (Name)\n",
    "    - NONCLUSTERED INDEX iProfitByMaterialAsPayer_Supplier ON Supplier (ProfitByMaterialAsPayer)\n",
    "    - NONCLUSTERED INDEX iProfitByMaterialAsPayee_Supplier ON Supplier (ProfitByMaterialAsPayee)\n",
    "    - NONCLUSTERED INDEX iProfitByMaterial_PaymentCategory ON PaymentCategory (ProfitByMaterial)\n",
    "    - NONCLUSTERED INDEX iCostByMaterial_PaymentCategory ON PaymentCategory (CostByMaterial)\n",
    "    - NONCLUSTERED INDEX iNotInPaymentParticipantProfit_PaymentCategory ON PaymentCategory (NotInPaymentParticipantProfit)\n",
    "  "
   ]
  },
  {
   "cell_type": "code",
   "execution_count": 1,
   "metadata": {},
   "outputs": [],
   "source": [
    "import pyodbc \n",
    "\n",
    "conn_str = (\n",
    "    r'Driver={ODBC Driver 18 for SQL Server};'\n",
    "    r'Server=localhost;'\n",
    "    r'Database=PaymentData;'\n",
    "    r'Trusted_Connection=yes;'\n",
    "    r'Encrypt=no;'\n",
    "    )\n",
    "cnxn = pyodbc.connect(conn_str)\n",
    "cursor = cnxn.cursor()"
   ]
  },
  {
   "attachments": {},
   "cell_type": "markdown",
   "metadata": {},
   "source": [
    "Для начала проверим время исполнения запросов `INSERT` и `UPDATE` без использования новых индексов"
   ]
  },
  {
   "cell_type": "code",
   "execution_count": 2,
   "metadata": {},
   "outputs": [],
   "source": [
    "def get_random_payment_participant_oid():\n",
    "    query = \"\"\"\n",
    "    SELECT TOP 1 Oid\n",
    "    FROM PaymentParticipant\n",
    "    ORDER BY NEWID() \n",
    "    \"\"\"\n",
    "    oid = cursor.execute(query).fetchval()\n",
    "    return oid\n",
    "\n",
    "def get_random_payment_category_oid():\n",
    "    query = \"\"\"\n",
    "    SELECT TOP 1 Oid\n",
    "    FROM PaymentCategory\n",
    "    ORDER BY NEWID() \n",
    "    \"\"\"\n",
    "    oid = cursor.execute(query).fetchval()\n",
    "    return oid\n",
    "\n",
    "def get_random_project_oid():\n",
    "    query = \"\"\"\n",
    "    SELECT TOP 1 Oid\n",
    "    FROM Project\n",
    "    ORDER BY NEWID() \n",
    "    \"\"\"\n",
    "    oid = cursor.execute(query).fetchval()\n",
    "    return oid\n",
    "\n",
    "def get_random_payment_oid():\n",
    "    query = \"\"\"\n",
    "    SELECT TOP 1 Oid\n",
    "    FROM Payment\n",
    "    ORDER BY NEWID() \n",
    "    \"\"\"\n",
    "    oid = cursor.execute(query).fetchval()\n",
    "    return oid"
   ]
  },
  {
   "cell_type": "code",
   "execution_count": 3,
   "metadata": {},
   "outputs": [],
   "source": [
    "from random import randint\n",
    "\n",
    "def random_insert(n_rows):\n",
    "    for _ in range(n_rows):\n",
    "        payer_oid = get_random_payment_participant_oid()\n",
    "        payee_oid = get_random_payment_participant_oid() \n",
    "        payment_category_oid = get_random_payment_category_oid()\n",
    "        project_oid = get_random_project_oid()\n",
    "\n",
    "        query = f\"\"\"\n",
    "        INSERT INTO Payment\n",
    "        (Oid, Amount, Category, Project, Justification,\n",
    "        Comment, Date, Payer, Payee, OptimisticLockField, GCRecord,\n",
    "        CreateDate, CheckNumber, IsAuthorized, Number)\n",
    "        VALUES\n",
    "        (NEWID(), '{randint(0, 10000)}', '{payment_category_oid}', '{project_oid}', NULL,\n",
    "        'Random inserted payment', NULL, '{payer_oid}', '{payee_oid}', NULL, NULL,\n",
    "        NULL, NULL, NULL, NULL)\n",
    "        \"\"\"\n",
    "        cursor.execute(query)\n",
    "    cursor.commit()\n",
    "\n",
    "def random_update(n_rows):\n",
    "    for _ in range(n_rows):\n",
    "        payer_oid = get_random_payment_participant_oid()\n",
    "        payee_oid = get_random_payment_participant_oid() \n",
    "        payment_category_oid = get_random_payment_category_oid()\n",
    "        payment_oid = get_random_payment_oid()\n",
    "\n",
    "        query = f\"\"\"\n",
    "        UPDATE Payment\n",
    "        SET Amount = Amount + 42, Payer = '{payer_oid}', Payee = '{payee_oid}', Category = '{payment_category_oid}'\n",
    "        WHERE Oid = '{payment_oid}'\n",
    "        \"\"\"\n",
    "        cursor.execute(query)\n",
    "    cursor.commit()"
   ]
  },
  {
   "cell_type": "code",
   "execution_count": 4,
   "metadata": {},
   "outputs": [
    {
     "name": "stdout",
     "output_type": "stream",
     "text": [
      "2.77 s ± 0 ns per loop (mean ± std. dev. of 1 run, 1 loop each)\n"
     ]
    }
   ],
   "source": [
    "%%timeit -r 1 -n 1\n",
    "\n",
    "random_insert(500)"
   ]
  },
  {
   "cell_type": "code",
   "execution_count": 5,
   "metadata": {},
   "outputs": [
    {
     "name": "stdout",
     "output_type": "stream",
     "text": [
      "2.36 s ± 0 ns per loop (mean ± std. dev. of 1 run, 1 loop each)\n"
     ]
    }
   ],
   "source": [
    "%%timeit -r 1 -n 1\n",
    "\n",
    "random_update(500)"
   ]
  },
  {
   "attachments": {},
   "cell_type": "markdown",
   "metadata": {},
   "source": [
    "Добавим индексы и сравним время"
   ]
  },
  {
   "cell_type": "code",
   "execution_count": 6,
   "metadata": {},
   "outputs": [],
   "source": [
    "indexes = [\n",
    "    \"NONCLUSTERED INDEX iName_PaymentCategory ON PaymentCategory (Name)\",\n",
    "    \"NONCLUSTERED INDEX iName_AccountType ON AccountType (Name)\",\n",
    "    \"NONCLUSTERED INDEX iProfitByMaterialAsPayer_Supplier ON Supplier (ProfitByMaterialAsPayer)\",\n",
    "    \"NONCLUSTERED INDEX iProfitByMaterialAsPayee_Supplier ON Supplier (ProfitByMaterialAsPayee)\",\n",
    "    \"NONCLUSTERED INDEX iProfitByMaterial_PaymentCategory ON PaymentCategory (ProfitByMaterial)\",\n",
    "    \"NONCLUSTERED INDEX iCostByMaterial_PaymentCategory ON PaymentCategory (CostByMaterial)\",\n",
    "    \"NONCLUSTERED INDEX iNotInPaymentParticipantProfit_PaymentCategory ON PaymentCategory (NotInPaymentParticipantProfit)\",\n",
    "]"
   ]
  },
  {
   "cell_type": "code",
   "execution_count": 7,
   "metadata": {},
   "outputs": [],
   "source": [
    "for index in indexes:\n",
    "    query = f\"\"\"\n",
    "    CREATE {index}\n",
    "    \"\"\"\n",
    "    cursor.execute(query)\n",
    "    cursor.commit()"
   ]
  },
  {
   "cell_type": "code",
   "execution_count": 8,
   "metadata": {},
   "outputs": [],
   "source": [
    "truncate_payment = \"\"\"\n",
    "IF  EXISTS (SELECT * FROM sys.objects WHERE object_id = OBJECT_ID(N'[dbo].[Payment]') AND type in (N'U'))\n",
    "TRUNCATE TABLE [dbo].[Payment]\n",
    "\"\"\"\n",
    "cursor.execute(truncate_payment)\n",
    "cursor.commit()"
   ]
  },
  {
   "cell_type": "code",
   "execution_count": 9,
   "metadata": {},
   "outputs": [
    {
     "name": "stdout",
     "output_type": "stream",
     "text": [
      "2.86 s ± 0 ns per loop (mean ± std. dev. of 1 run, 1 loop each)\n"
     ]
    }
   ],
   "source": [
    "%%timeit -r 1 -n 1\n",
    "\n",
    "random_insert(500)"
   ]
  },
  {
   "cell_type": "code",
   "execution_count": 10,
   "metadata": {},
   "outputs": [
    {
     "name": "stdout",
     "output_type": "stream",
     "text": [
      "2.54 s ± 0 ns per loop (mean ± std. dev. of 1 run, 1 loop each)\n"
     ]
    }
   ],
   "source": [
    "%%timeit -r 1 -n 1\n",
    "\n",
    "random_update(500)"
   ]
  },
  {
   "attachments": {},
   "cell_type": "markdown",
   "metadata": {},
   "source": [
    "Были протестированы различные комбинации создания новых индексов, но ни один из них не дал никакого улучшения исполнения времени вставки/изменения."
   ]
  }
 ],
 "metadata": {
  "kernelspec": {
   "display_name": "dbopt",
   "language": "python",
   "name": "python3"
  },
  "language_info": {
   "codemirror_mode": {
    "name": "ipython",
    "version": 3
   },
   "file_extension": ".py",
   "mimetype": "text/x-python",
   "name": "python",
   "nbconvert_exporter": "python",
   "pygments_lexer": "ipython3",
   "version": "3.11.3"
  },
  "orig_nbformat": 4
 },
 "nbformat": 4,
 "nbformat_minor": 2
}
