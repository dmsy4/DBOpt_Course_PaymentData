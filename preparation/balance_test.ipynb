{
 "cells": [
  {
   "cell_type": "code",
   "execution_count": 1,
   "metadata": {},
   "outputs": [],
   "source": [
    "import pyodbc \n",
    "\n",
    "conn_str = (\n",
    "    r'Driver={ODBC Driver 18 for SQL Server};'\n",
    "    r'Server=localhost;'\n",
    "    r'Database=PaymentData;'\n",
    "    r'Trusted_Connection=yes;'\n",
    "    r'Encrypt=no;'\n",
    "    )\n",
    "cnxn = pyodbc.connect(conn_str)\n",
    "cursor = cnxn.cursor()"
   ]
  },
  {
   "cell_type": "code",
   "execution_count": null,
   "metadata": {},
   "outputs": [],
   "source": [
    "cursor.close()\n",
    "cnxn.close()"
   ]
  },
  {
   "attachments": {},
   "cell_type": "markdown",
   "metadata": {},
   "source": [
    "Для начала извлечем случайные `Oid` для Bank, Supplier, Client, Cashbox, Project среди тех записей, которые участвуют в платежах (табл. PaymentParticipant)."
   ]
  },
  {
   "cell_type": "code",
   "execution_count": 2,
   "metadata": {},
   "outputs": [],
   "source": [
    "def get_random_oid(table_name):\n",
    "    query = f\"\"\"\n",
    "    SELECT TOP 1 {table_name}.Oid\n",
    "    FROM {table_name} \n",
    "    INNER JOIN PaymentParticipant ON {table_name}.Oid = PaymentParticipant.Oid\n",
    "    ORDER BY NEWID()\n",
    "    \"\"\"\n",
    "    \n",
    "    oid = cursor.execute(query).fetchval()\n",
    "    print(f\"Selected Oid for table {table_name}: {oid}\")\n",
    "    return oid\n",
    "\n",
    "\n",
    "def get_project_oid_by_client_oid(client_oid):\n",
    "    query = f\"\"\"\n",
    "    SELECT Oid\n",
    "\tFROM Project\n",
    "\tWHERE Client = '{client_oid}'\n",
    "    \"\"\"\n",
    "\n",
    "    oid = cursor.execute(query).fetchval()\n",
    "    print(f\"Project Oid: {oid}\")\n",
    "    return oid"
   ]
  },
  {
   "cell_type": "code",
   "execution_count": 3,
   "metadata": {},
   "outputs": [
    {
     "name": "stdout",
     "output_type": "stream",
     "text": [
      "Selected Oid for table Bank: 775A7217-D568-DA9F-9DA4-FB9CE0657E75\n",
      "Selected Oid for table Supplier: 92CCB55D-9845-3301-4E96-904638524379\n",
      "Selected Oid for table Client: 2CB9AF02-96CD-F6FE-C857-6F69A37A33A5\n",
      "Selected Oid for table Cashbox: D6827B8F-D516-0111-3553-34CB56E9BEFA\n",
      "Project Oid: 37C4308E-80A9-8DC2-E263-C7A2F1B7CFEB\n"
     ]
    }
   ],
   "source": [
    "bank_oid = get_random_oid(\"Bank\")\n",
    "supplier_oid = get_random_oid(\"Supplier\")\n",
    "client_oid = get_random_oid(\"Client\")\n",
    "cashbox_oid = get_random_oid(\"Cashbox\")\n",
    "project_oid = get_project_oid_by_client_oid(client_oid)"
   ]
  },
  {
   "attachments": {},
   "cell_type": "markdown",
   "metadata": {},
   "source": [
    "Функция для получения баланса объектов"
   ]
  },
  {
   "cell_type": "code",
   "execution_count": 4,
   "metadata": {},
   "outputs": [],
   "source": [
    "def get_balance_by_oid(oid, object_name=None):\n",
    "    query = f\"\"\"\n",
    "    SELECT Balance FROM PaymentParticipant \n",
    "    WHERE Oid = '{oid}'\n",
    "    \"\"\"\n",
    "\n",
    "    balance = cursor.execute(query).fetchval()\n",
    "    if object_name is not None:\n",
    "        print(f\"{object_name} balance: {balance}\")\n",
    "    return balance\n",
    "    "
   ]
  },
  {
   "attachments": {},
   "cell_type": "markdown",
   "metadata": {},
   "source": [
    "Посмотрим на балансы объектов в начале"
   ]
  },
  {
   "cell_type": "code",
   "execution_count": 5,
   "metadata": {},
   "outputs": [
    {
     "name": "stdout",
     "output_type": "stream",
     "text": [
      "Client balance: 10803\n",
      "Bank balance: -10410\n",
      "Cashbox balance: -33651\n",
      "Supplier balance: -8267\n"
     ]
    }
   ],
   "source": [
    "client_balance = get_balance_by_oid(client_oid, \"Client\")\n",
    "bank_balance = get_balance_by_oid(bank_oid, \"Bank\")\n",
    "cashbox_balance = get_balance_by_oid(cashbox_oid, \"Cashbox\")\n",
    "supplier_balance = get_balance_by_oid(supplier_oid, \"Supplier\")"
   ]
  },
  {
   "cell_type": "code",
   "execution_count": 6,
   "metadata": {},
   "outputs": [
    {
     "data": {
      "text/plain": [
       "-39197"
      ]
     },
     "execution_count": 6,
     "metadata": {},
     "output_type": "execute_result"
    }
   ],
   "source": [
    "client_balance - 50000"
   ]
  },
  {
   "cell_type": "code",
   "execution_count": 7,
   "metadata": {},
   "outputs": [
    {
     "data": {
      "text/plain": [
       "-310410"
      ]
     },
     "execution_count": 7,
     "metadata": {},
     "output_type": "execute_result"
    }
   ],
   "source": [
    "bank_balance - 300000"
   ]
  },
  {
   "cell_type": "code",
   "execution_count": 8,
   "metadata": {},
   "outputs": [
    {
     "data": {
      "text/plain": [
       "16349"
      ]
     },
     "execution_count": 8,
     "metadata": {},
     "output_type": "execute_result"
    }
   ],
   "source": [
    "cashbox_balance + 50000"
   ]
  },
  {
   "cell_type": "code",
   "execution_count": 9,
   "metadata": {},
   "outputs": [
    {
     "data": {
      "text/plain": [
       "291733"
      ]
     },
     "execution_count": 9,
     "metadata": {},
     "output_type": "execute_result"
    }
   ],
   "source": [
    "supplier_balance + 300000"
   ]
  },
  {
   "cell_type": "code",
   "execution_count": 21,
   "metadata": {},
   "outputs": [
    {
     "name": "stdout",
     "output_type": "stream",
     "text": [
      "Client balance: -39197\n",
      "Bank balance: -310410\n",
      "Cashbox balance: 16349\n",
      "Supplier balance: 291733\n"
     ]
    }
   ],
   "source": [
    "client_balance = get_balance_by_oid(client_oid, \"Client\")\n",
    "bank_balance = get_balance_by_oid(bank_oid, \"Bank\")\n",
    "cashbox_balance = get_balance_by_oid(cashbox_oid, \"Cashbox\")\n",
    "supplier_balance = get_balance_by_oid(supplier_oid, \"Supplier\")"
   ]
  },
  {
   "attachments": {},
   "cell_type": "markdown",
   "metadata": {},
   "source": [
    "Новые платежи проведем как в файле _Balance description.pdf_\n",
    "\n",
    "Для вставки новых платежей необходимо знать `Oid` категории платежа, функция для этого:"
   ]
  },
  {
   "cell_type": "code",
   "execution_count": 11,
   "metadata": {},
   "outputs": [],
   "source": [
    "def get_payment_category_oid(payment_name):\n",
    "    query = f\"\"\"\n",
    "    SELECT Oid FROM PaymentCategory\n",
    "    WHERE Name = '{payment_name}'\n",
    "    \"\"\" \n",
    "    \n",
    "    category_oid = cursor.execute(query).fetchval()\n",
    "    return category_oid"
   ]
  },
  {
   "attachments": {},
   "cell_type": "markdown",
   "metadata": {},
   "source": [
    "Согласно примеру из таблицы есть 4 платежа:\n",
    "\n",
    "1. `Bank` переводит `Supplier` авансовый платеж **400_000** на приобретение материалов.\n",
    "\n",
    "    `Bank balance -400_000`, `Cashbox balance 0`, `Client balance 0`, `Supplier balance +400_000`. \n",
    "\n",
    "2. `Supplier` переводит `Client` **100_000** для закупки материалов\n",
    "\n",
    "    `Bank balance -400_000`, `Cashbox balance 0`, `Client balance +100_000`, `Supplier balance +300_000`. \n",
    "\n",
    "3. `Client` передает в `Cashbox` **150_000** для закупки материалов\n",
    "\n",
    "    `Bank balance -400_000`, `Cashbox balance +150_000`, `Client balance -50_000`, `Supplier balance +300_000`. \n",
    "\n",
    "4. `Cashbox` частично гасит кредит в `Bank` суммой в **100_000**\n",
    "   \n",
    "   `Bank balance -300_000`, `Cashbox balance +50_000`, `Client balance -50_000`, `Supplier balance +300_000`.\n",
    "\n",
    "Указаны относительные (к предыдущему платежу) изменения балансов, сохраним их для каждого платежа"
   ]
  },
  {
   "cell_type": "code",
   "execution_count": 13,
   "metadata": {},
   "outputs": [],
   "source": [
    "BALANCE_CHANGES = {\n",
    "    \"First payment\": {\"Bank\": -400_000, \"Cashbox\": 0, \"Client\": 0, \"Supplier\": 400_000},\n",
    "    \"Second payment\": {\"Bank\": 0, \"Cashbox\": 0, \"Client\": 100_000, \"Supplier\": -100_000},\n",
    "    \"Third payment\": {\"Bank\": 0, \"Cashbox\": 150_000, \"Client\": -150_000, \"Supplier\": 0},\n",
    "    \"Fourth payment\": {\"Bank\": 100_000, \"Cashbox\": -100_000, \"Client\": 0, \"Supplier\": 0},\n",
    "}"
   ]
  },
  {
   "attachments": {},
   "cell_type": "markdown",
   "metadata": {},
   "source": [
    "Создадим для внесения платежей соответствующие функции"
   ]
  },
  {
   "cell_type": "code",
   "execution_count": 14,
   "metadata": {},
   "outputs": [],
   "source": [
    "def make_first_payment():\n",
    "    payment_category_oid = get_payment_category_oid(\"Аванс на материалы\")\n",
    "    query = f\"\"\"\n",
    "    INSERT INTO Payment\n",
    "    (Oid, Amount, Category, Project, Justification,\n",
    "\tComment, Date, Payer, Payee, OptimisticLockField, GCRecord,\n",
    "\tCreateDate, CheckNumber, IsAuthorized, Number)\n",
    "    VALUES\n",
    "    (NEWID(), 400000, '{payment_category_oid}', '{project_oid}', NULL,\n",
    "    'Авансовый платеж поставщику', NULL, '{bank_oid}', '{supplier_oid}', NULL, NULL,\n",
    "    NULL, NULL, NULL, NULL)\n",
    "    \"\"\"\n",
    "    cursor.execute(query)\n",
    "    cursor.commit()\n",
    "\n",
    "def make_second_payment():\n",
    "    payment_category_oid = get_payment_category_oid(\"Закупка материалов\")\n",
    "    query = f\"\"\"\n",
    "    INSERT INTO Payment\n",
    "    (Oid, Amount, Category, Project, Justification,\n",
    "\tComment, Date, Payer, Payee, OptimisticLockField, GCRecord,\n",
    "\tCreateDate, CheckNumber, IsAuthorized, Number)\n",
    "    VALUES\n",
    "    (NEWID(), 100000, '{payment_category_oid}', '{project_oid}', NULL,\n",
    "    'Для клиента приобрели материал', NULL, '{supplier_oid}', '{client_oid}', NULL, NULL,\n",
    "    NULL, NULL, NULL, NULL)\n",
    "    \"\"\"\n",
    "    cursor.execute(query)\n",
    "    cursor.commit()\n",
    "\n",
    "def make_third_payment():\n",
    "    payment_category_oid = get_payment_category_oid(\"Закупка материалов\")\n",
    "    query = f\"\"\"\n",
    "    INSERT INTO Payment\n",
    "    (Oid, Amount, Category, Project, Justification,\n",
    "\tComment, Date, Payer, Payee, OptimisticLockField, GCRecord,\n",
    "\tCreateDate, CheckNumber, IsAuthorized, Number)\n",
    "    VALUES\n",
    "    (NEWID(), 150000, '{payment_category_oid}', '{project_oid}', NULL,\n",
    "    'Для клиента приобрели материал', NULL, '{client_oid}', '{cashbox_oid}', NULL, NULL,\n",
    "    NULL, NULL, NULL, NULL)\n",
    "    \"\"\"\n",
    "    cursor.execute(query)\n",
    "    cursor.commit()\n",
    "\n",
    "def make_fourth_payment():\n",
    "    payment_category_oid = get_payment_category_oid(\"Возврат кредита\")\n",
    "    query = f\"\"\"\n",
    "    INSERT INTO Payment\n",
    "    (Oid, Amount, Category, Project, Justification,\n",
    "\tComment, Date, Payer, Payee, OptimisticLockField, GCRecord,\n",
    "\tCreateDate, CheckNumber, IsAuthorized, Number)\n",
    "    VALUES\n",
    "    (NEWID(), 100000, '{payment_category_oid}', '{project_oid}', NULL,\n",
    "    'Частичное погашение кредита ', NULL, '{cashbox_oid}', '{bank_oid}', NULL, NULL,\n",
    "    NULL, NULL, NULL, NULL)\n",
    "    \"\"\"\n",
    "    cursor.execute(query)\n",
    "    cursor.commit()\n"
   ]
  },
  {
   "cell_type": "code",
   "execution_count": 15,
   "metadata": {},
   "outputs": [],
   "source": [
    "def assert_after_payment(payment, object, object_oid, old_object_balance):\n",
    "    current_balance = get_balance_by_oid(object_oid)\n",
    "    balance_change = BALANCE_CHANGES[payment][object]\n",
    "    expected_balance = old_object_balance + balance_change\n",
    "    assert_msg = f'{object} balance {current_balance}, expected {expected_balance}'\n",
    "    assert current_balance == expected_balance, assert_msg\n",
    "    print(assert_msg)"
   ]
  },
  {
   "attachments": {},
   "cell_type": "markdown",
   "metadata": {},
   "source": [
    "Первый платеж (Bank -> Supplier)"
   ]
  },
  {
   "cell_type": "code",
   "execution_count": 16,
   "metadata": {},
   "outputs": [
    {
     "name": "stdout",
     "output_type": "stream",
     "text": [
      "Bank balance -410410, expected -410410\n",
      "Cashbox balance -33651, expected -33651\n",
      "Client balance 10803, expected 10803\n",
      "Supplier balance 391733, expected 391733\n"
     ]
    }
   ],
   "source": [
    "bank_balance_before_payment = get_balance_by_oid(bank_oid)\n",
    "cashbox_balance_before_payment = get_balance_by_oid(cashbox_oid)\n",
    "client_balance_before_payment = get_balance_by_oid(client_oid)\n",
    "supplier_balance_before_payment = get_balance_by_oid(supplier_oid)\n",
    "\n",
    "make_first_payment()\n",
    "\n",
    "assert_after_payment(\"First payment\", \"Bank\", bank_oid, bank_balance_before_payment)\n",
    "assert_after_payment(\"First payment\", \"Cashbox\", cashbox_oid, cashbox_balance_before_payment)\n",
    "assert_after_payment(\"First payment\", \"Client\", client_oid, client_balance_before_payment)\n",
    "assert_after_payment(\"First payment\", \"Supplier\", supplier_oid, supplier_balance_before_payment)"
   ]
  },
  {
   "attachments": {},
   "cell_type": "markdown",
   "metadata": {},
   "source": [
    "Второй платеж (Supplier -> Client)"
   ]
  },
  {
   "cell_type": "code",
   "execution_count": 17,
   "metadata": {},
   "outputs": [
    {
     "name": "stdout",
     "output_type": "stream",
     "text": [
      "Bank balance -410410, expected -410410\n",
      "Cashbox balance -33651, expected -33651\n",
      "Client balance 110803, expected 110803\n",
      "Supplier balance 291733, expected 291733\n"
     ]
    }
   ],
   "source": [
    "bank_balance_before_payment = get_balance_by_oid(bank_oid)\n",
    "cashbox_balance_before_payment = get_balance_by_oid(cashbox_oid)\n",
    "client_balance_before_payment = get_balance_by_oid(client_oid)\n",
    "supplier_balance_before_payment = get_balance_by_oid(supplier_oid)\n",
    "\n",
    "make_second_payment()\n",
    "\n",
    "assert_after_payment(\"Second payment\", \"Bank\", bank_oid, bank_balance_before_payment)\n",
    "assert_after_payment(\"Second payment\", \"Cashbox\", cashbox_oid, cashbox_balance_before_payment)\n",
    "assert_after_payment(\"Second payment\", \"Client\", client_oid, client_balance_before_payment)\n",
    "assert_after_payment(\"Second payment\", \"Supplier\", supplier_oid, supplier_balance_before_payment)"
   ]
  },
  {
   "attachments": {},
   "cell_type": "markdown",
   "metadata": {},
   "source": [
    "Третий платеж (Client -> Cashbox)"
   ]
  },
  {
   "cell_type": "code",
   "execution_count": 18,
   "metadata": {},
   "outputs": [
    {
     "name": "stdout",
     "output_type": "stream",
     "text": [
      "Bank balance -410410, expected -410410\n",
      "Cashbox balance 116349, expected 116349\n",
      "Client balance -39197, expected -39197\n",
      "Supplier balance 291733, expected 291733\n"
     ]
    }
   ],
   "source": [
    "bank_balance_before_payment = get_balance_by_oid(bank_oid)\n",
    "cashbox_balance_before_payment = get_balance_by_oid(cashbox_oid)\n",
    "client_balance_before_payment = get_balance_by_oid(client_oid)\n",
    "supplier_balance_before_payment = get_balance_by_oid(supplier_oid)\n",
    "\n",
    "make_third_payment()\n",
    "\n",
    "assert_after_payment(\"Third payment\", \"Bank\", bank_oid, bank_balance_before_payment)\n",
    "assert_after_payment(\"Third payment\", \"Cashbox\", cashbox_oid, cashbox_balance_before_payment)\n",
    "assert_after_payment(\"Third payment\", \"Client\", client_oid, client_balance_before_payment)\n",
    "assert_after_payment(\"Third payment\", \"Supplier\", supplier_oid, supplier_balance_before_payment)"
   ]
  },
  {
   "attachments": {},
   "cell_type": "markdown",
   "metadata": {},
   "source": [
    "Четвертый платеж (Cashbox -> Bank)"
   ]
  },
  {
   "cell_type": "code",
   "execution_count": 20,
   "metadata": {},
   "outputs": [
    {
     "name": "stdout",
     "output_type": "stream",
     "text": [
      "Bank balance -310410, expected -310410\n",
      "Cashbox balance 16349, expected 16349\n",
      "Client balance -39197, expected -39197\n",
      "Supplier balance 291733, expected 291733\n"
     ]
    }
   ],
   "source": [
    "bank_balance_before_payment = get_balance_by_oid(bank_oid)\n",
    "cashbox_balance_before_payment = get_balance_by_oid(cashbox_oid)\n",
    "client_balance_before_payment = get_balance_by_oid(client_oid)\n",
    "supplier_balance_before_payment = get_balance_by_oid(supplier_oid)\n",
    "\n",
    "make_fourth_payment()\n",
    "\n",
    "assert_after_payment(\"Fourth payment\", \"Bank\", bank_oid, bank_balance_before_payment)\n",
    "assert_after_payment(\"Fourth payment\", \"Cashbox\", cashbox_oid, cashbox_balance_before_payment)\n",
    "assert_after_payment(\"Fourth payment\", \"Client\", client_oid, client_balance_before_payment)\n",
    "assert_after_payment(\"Fourth payment\", \"Supplier\", supplier_oid, supplier_balance_before_payment)"
   ]
  }
 ],
 "metadata": {
  "kernelspec": {
   "display_name": "dbopt",
   "language": "python",
   "name": "python3"
  },
  "language_info": {
   "codemirror_mode": {
    "name": "ipython",
    "version": 3
   },
   "file_extension": ".py",
   "mimetype": "text/x-python",
   "name": "python",
   "nbconvert_exporter": "python",
   "pygments_lexer": "ipython3",
   "version": "3.11.3"
  },
  "orig_nbformat": 4
 },
 "nbformat": 4,
 "nbformat_minor": 2
}
